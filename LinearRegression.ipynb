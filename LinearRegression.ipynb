{
  "nbformat": 4,
  "nbformat_minor": 0,
  "metadata": {
    "colab": {
      "name": "LogisticRegression.ipynb",
      "provenance": [],
      "collapsed_sections": []
    },
    "kernelspec": {
      "name": "python3",
      "display_name": "Python 3"
    }
  },
  "cells": [
    {
      "cell_type": "code",
      "metadata": {
        "colab": {
          "base_uri": "https://localhost:8080/"
        },
        "id": "LiTCsTrmHO6E",
        "outputId": "442e5411-6200-4bb0-cb50-8acb67bcb02b"
      },
      "source": [
        "#Reading given dataset\n",
        "import pandas as pd\n",
        "import numpy as np\n",
        "import matplotlib.pyplot as plt\n",
        "from sklearn.model_selection import train_test_split  # to split the data into test and train\n",
        "from sklearn.linear_model import LinearRegression #to build the model\n",
        "from sklearn.preprocessing import StandardScaler #transform the data with mean 0 and sd=1\n",
        "from sklearn.metrics import mean_squared_error\n",
        "\n",
        "monetp=pd.read_csv(\"monet.csv\")\n",
        "print(monetp)\n"
      ],
      "execution_count": 31,
      "outputs": [
        {
          "output_type": "stream",
          "text": [
            "        PRICE  HEIGHT  WIDTH  SIGNED  PICTURE  HOUSE \n",
            "0    3.993780    21.3   25.6       1        1       1\n",
            "1    8.800000    31.9   25.6       1        2       2\n",
            "2    0.131694     6.9   15.9       0        3       3\n",
            "3    2.037500    25.7   32.0       1        4       2\n",
            "4    1.487500    25.7   32.0       1        4       2\n",
            "..        ...     ...    ...     ...      ...     ...\n",
            "425  5.282500    25.6   39.4       1      375       1\n",
            "426  9.352500    25.9   39.6       1      375       2\n",
            "427  8.252500    25.6   39.6       1      375       1\n",
            "428  3.410000    25.6   39.4       1      386       2\n",
            "429  1.542500    25.7   32.0       1      387       1\n",
            "\n",
            "[430 rows x 6 columns]\n"
          ],
          "name": "stdout"
        }
      ]
    },
    {
      "cell_type": "code",
      "metadata": {
        "colab": {
          "base_uri": "https://localhost:8080/"
        },
        "id": "iQVAGlEFLRie",
        "outputId": "b50f9f10-55e3-472a-ba13-b5a3298062f9"
      },
      "source": [
        "#Combinig width and height into size\n",
        "monetp[\"SIZE\"]=monetp[\"HEIGHT\"]*monetp[\"WIDTH\"]\n",
        "print(monetp)"
      ],
      "execution_count": 32,
      "outputs": [
        {
          "output_type": "stream",
          "text": [
            "        PRICE  HEIGHT  WIDTH  SIGNED  PICTURE  HOUSE      SIZE\n",
            "0    3.993780    21.3   25.6       1        1       1   545.28\n",
            "1    8.800000    31.9   25.6       1        2       2   816.64\n",
            "2    0.131694     6.9   15.9       0        3       3   109.71\n",
            "3    2.037500    25.7   32.0       1        4       2   822.40\n",
            "4    1.487500    25.7   32.0       1        4       2   822.40\n",
            "..        ...     ...    ...     ...      ...     ...      ...\n",
            "425  5.282500    25.6   39.4       1      375       1  1008.64\n",
            "426  9.352500    25.9   39.6       1      375       2  1025.64\n",
            "427  8.252500    25.6   39.6       1      375       1  1013.76\n",
            "428  3.410000    25.6   39.4       1      386       2  1008.64\n",
            "429  1.542500    25.7   32.0       1      387       1   822.40\n",
            "\n",
            "[430 rows x 7 columns]\n"
          ],
          "name": "stdout"
        }
      ]
    },
    {
      "cell_type": "code",
      "metadata": {
        "colab": {
          "base_uri": "https://localhost:8080/",
          "height": 279
        },
        "id": "2gsDo4aoMytx",
        "outputId": "6526063b-0ee8-49c2-92e9-6264b983b0ce"
      },
      "source": [
        "#LinearRegression1\n",
        "monet_data, test_data = train_test_split(monetp)\n",
        "A1 = monet_data[\"SIZE\"].values.reshape(-1,1)\n",
        "B1 = monet_data[\"PRICE\"].values.reshape(-1,1)\n",
        "Linear1 = LinearRegression().fit(A1,B1)\n",
        "\n",
        "predB1 = Linear1.predict(A1)\n",
        "plt.scatter(A1, B1)\n",
        "plt.plot\n",
        "plt.plot(A1, predB1, color='brown')\n",
        "plt.xlabel(\"SIZE\")\n",
        "plt.ylabel(\"PRICE\")\n",
        "plt.show()"
      ],
      "execution_count": 33,
      "outputs": [
        {
          "output_type": "display_data",
          "data": {
            "image/png": "[encoded data removed]",
            "text/plain": [
              "<Figure size 432x288 with 1 Axes>"
            ]
          },
          "metadata": {
            "tags": [],
            "needs_background": "light"
          }
        }
      ]
    },
    {
      "cell_type": "code",
      "metadata": {
        "colab": {
          "base_uri": "https://localhost:8080/"
        },
        "id": "4JAq7xQoXrDr",
        "outputId": "06298cfe-f33a-4aa0-d5fa-151b3a54e25a"
      },
      "source": [
        "#Finding mean square error\n",
        "testA1 = test_data[\"SIZE\"].values.reshape(-1,1)\n",
        "testB1 = test_data[\"PRICE\"].values.reshape(-1,1)\n",
        "testB1_pred = Linear1.predict(testA1)\n",
        "Linear1_Err = mean_squared_error(testB1,testB1_pred)\n",
        "print(\"Mean square error for Linear Reggression1= \", Linear1_Err)"
      ],
      "execution_count": 34,
      "outputs": [
        {
          "output_type": "stream",
          "text": [
            "Mean square error for Linear Reggression1=  17.496205221233986\n"
          ],
          "name": "stdout"
        }
      ]
    },
    {
      "cell_type": "code",
      "metadata": {
        "colab": {
          "base_uri": "https://localhost:8080/",
          "height": 279
        },
        "id": "1V3S8cqhRZbN",
        "outputId": "a9d24bae-a155-4ee2-e82f-839fe7209877"
      },
      "source": [
        "#LinearRegression2\n",
        "monet_data, test_data = train_test_split(monetp)\n",
        "A2 = monet_data[\"WIDTH\"].values.reshape(-1,1)\n",
        "B2 = monet_data[\"PRICE\"].values.reshape(-1,1)\n",
        "Linear2 = LinearRegression().fit(A2,B2)\n",
        "\n",
        "predB2 = Linear2.predict(A2)\n",
        "plt.scatter(A2, B2)\n",
        "plt.plot\n",
        "plt.plot(A2, predB2, color='green')\n",
        "plt.xlabel(\"WIDTH\")\n",
        "plt.ylabel(\"PRICE\")\n",
        "plt.show()"
      ],
      "execution_count": 35,
      "outputs": [
        {
          "output_type": "display_data",
          "data": {
            "image/png": "[encoded data removed]",
            "text/plain": [
              "<Figure size 432x288 with 1 Axes>"
            ]
          },
          "metadata": {
            "tags": [],
            "needs_background": "light"
          }
        }
      ]
    },
    {
      "cell_type": "code",
      "metadata": {
        "colab": {
          "base_uri": "https://localhost:8080/"
        },
        "id": "zWDuCEtaXwR0",
        "outputId": "fb482dc8-fa61-41f8-d6d2-da75d9ac8928"
      },
      "source": [
        "#Finding mean square error\n",
        "testA2 = test_data[\"WIDTH\"].values.reshape(-1,1)\n",
        "testB2 = test_data[\"PRICE\"].values.reshape(-1,1)\n",
        "testB2_pred = Linear2.predict(testA2)\n",
        "Linear2_Err = mean_squared_error(testB2,testB2_pred)\n",
        "print(\"Mean square error for Linear Reggression2= \", Linear2_Err)"
      ],
      "execution_count": 36,
      "outputs": [
        {
          "output_type": "stream",
          "text": [
            "Mean square error for Linear Reggression2=  16.13286954529827\n"
          ],
          "name": "stdout"
        }
      ]
    },
    {
      "cell_type": "code",
      "metadata": {
        "colab": {
          "base_uri": "https://localhost:8080/"
        },
        "id": "YTivs__ne5Oi",
        "outputId": "d816ac29-c230-4359-86ed-7eb2186d0f13"
      },
      "source": [
        "#MultivariateRegression\n",
        "mv = monet_data.iloc[:,1:]\n",
        "mv = mv.values.reshape(-1,1)\n",
        "Multivariate = LinearRegression(normalize='True').fit(mv,mv)\n",
        "\n",
        "testmv = test_data.iloc[:,1:].values.reshape(-1,1)\n",
        "testmv_pred = Multivariate.predict(testmv)\n",
        "Multivariate_Err = mean_squared_error(testmv,testmv_pred)\n",
        "output = \"{:.30f}\".format(Multivariate_Err)\n",
        "print(\"Mean square error multivariate= \", output)"
      ],
      "execution_count": 37,
      "outputs": [
        {
          "output_type": "stream",
          "text": [
            "Mean square error multivariate=  0.000000000000000000000000072145\n"
          ],
          "name": "stdout"
        }
      ]
    }
  ]
}
