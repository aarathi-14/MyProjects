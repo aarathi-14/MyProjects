{
  "nbformat": 4,
  "nbformat_minor": 0,
  "metadata": {
    "colab": {
      "name": "LogisticRegression.ipynb",
      "provenance": [],
      "collapsed_sections": []
    },
    "kernelspec": {
      "name": "python3",
      "display_name": "Python 3"
    }
  },
  "cells": [
    {
      "cell_type": "code",
      "metadata": {
        "id": "-fKZGdYMLV0T"
      },
      "source": [
        "from matplotlib import pyplot as plt \n",
        "import pandas as pd\n",
        "from sklearn import metrics\n",
        "from sklearn.linear_model import LogisticRegression\n",
        "from sklearn.model_selection import train_test_split\n",
        "from sklearn.metrics import confusion_matrix\n",
        "from sklearn.preprocessing import StandardScaler"
      ],
      "execution_count": 20,
      "outputs": []
    },
    {
      "cell_type": "code",
      "metadata": {
        "colab": {
          "base_uri": "https://localhost:8080/",
          "height": 238
        },
        "id": "Y1c16tugLTPB",
        "outputId": "a8368edb-4ed8-4a57-c6ba-15708a2b84d9"
      },
      "source": [
        "df = pd.read_csv (\"winequality-red.csv\")\n",
        "df.head()"
      ],
      "execution_count": 31,
      "outputs": [
        {
          "output_type": "execute_result",
          "data": {
            "text/html": [
              "<div>\n",
              "<style scoped>\n",
              "    .dataframe tbody tr th:only-of-type {\n",
              "        vertical-align: middle;\n",
              "    }\n",
              "\n",
              "    .dataframe tbody tr th {\n",
              "        vertical-align: top;\n",
              "    }\n",
              "\n",
              "    .dataframe thead th {\n",
              "        text-align: right;\n",
              "    }\n",
              "</style>\n",
              "<table border=\"1\" class=\"dataframe\">\n",
              "  <thead>\n",
              "    <tr style=\"text-align: right;\">\n",
              "      <th></th>\n",
              "      <th>fixed acidity</th>\n",
              "      <th>volatile acidity</th>\n",
              "      <th>citric acid</th>\n",
              "      <th>residual sugar</th>\n",
              "      <th>chlorides</th>\n",
              "      <th>free sulfur dioxide</th>\n",
              "      <th>total sulfur dioxide</th>\n",
              "      <th>density</th>\n",
              "      <th>pH</th>\n",
              "      <th>sulphates</th>\n",
              "      <th>alcohol</th>\n",
              "      <th>quality</th>\n",
              "    </tr>\n",
              "  </thead>\n",
              "  <tbody>\n",
              "    <tr>\n",
              "      <th>0</th>\n",
              "      <td>7.4</td>\n",
              "      <td>0.70</td>\n",
              "      <td>0.00</td>\n",
              "      <td>1.9</td>\n",
              "      <td>0.076</td>\n",
              "      <td>11.0</td>\n",
              "      <td>34.0</td>\n",
              "      <td>0.9978</td>\n",
              "      <td>3.51</td>\n",
              "      <td>0.56</td>\n",
              "      <td>9.4</td>\n",
              "      <td>5</td>\n",
              "    </tr>\n",
              "    <tr>\n",
              "      <th>1</th>\n",
              "      <td>7.8</td>\n",
              "      <td>0.88</td>\n",
              "      <td>0.00</td>\n",
              "      <td>2.6</td>\n",
              "      <td>0.098</td>\n",
              "      <td>25.0</td>\n",
              "      <td>67.0</td>\n",
              "      <td>0.9968</td>\n",
              "      <td>3.20</td>\n",
              "      <td>0.68</td>\n",
              "      <td>9.8</td>\n",
              "      <td>5</td>\n",
              "    </tr>\n",
              "    <tr>\n",
              "      <th>2</th>\n",
              "      <td>7.8</td>\n",
              "      <td>0.76</td>\n",
              "      <td>0.04</td>\n",
              "      <td>2.3</td>\n",
              "      <td>0.092</td>\n",
              "      <td>15.0</td>\n",
              "      <td>54.0</td>\n",
              "      <td>0.9970</td>\n",
              "      <td>3.26</td>\n",
              "      <td>0.65</td>\n",
              "      <td>9.8</td>\n",
              "      <td>5</td>\n",
              "    </tr>\n",
              "    <tr>\n",
              "      <th>3</th>\n",
              "      <td>11.2</td>\n",
              "      <td>0.28</td>\n",
              "      <td>0.56</td>\n",
              "      <td>1.9</td>\n",
              "      <td>0.075</td>\n",
              "      <td>17.0</td>\n",
              "      <td>60.0</td>\n",
              "      <td>0.9980</td>\n",
              "      <td>3.16</td>\n",
              "      <td>0.58</td>\n",
              "      <td>9.8</td>\n",
              "      <td>6</td>\n",
              "    </tr>\n",
              "    <tr>\n",
              "      <th>4</th>\n",
              "      <td>7.4</td>\n",
              "      <td>0.70</td>\n",
              "      <td>0.00</td>\n",
              "      <td>1.9</td>\n",
              "      <td>0.076</td>\n",
              "      <td>11.0</td>\n",
              "      <td>34.0</td>\n",
              "      <td>0.9978</td>\n",
              "      <td>3.51</td>\n",
              "      <td>0.56</td>\n",
              "      <td>9.4</td>\n",
              "      <td>5</td>\n",
              "    </tr>\n",
              "  </tbody>\n",
              "</table>\n",
              "</div>"
            ],
            "text/plain": [
              "   fixed acidity  volatile acidity  citric acid  ...  sulphates  alcohol  quality\n",
              "0            7.4              0.70         0.00  ...       0.56      9.4        5\n",
              "1            7.8              0.88         0.00  ...       0.68      9.8        5\n",
              "2            7.8              0.76         0.04  ...       0.65      9.8        5\n",
              "3           11.2              0.28         0.56  ...       0.58      9.8        6\n",
              "4            7.4              0.70         0.00  ...       0.56      9.4        5\n",
              "\n",
              "[5 rows x 12 columns]"
            ]
          },
          "metadata": {
            "tags": []
          },
          "execution_count": 31
        }
      ]
    },
    {
      "cell_type": "code",
      "metadata": {
        "colab": {
          "base_uri": "https://localhost:8080/",
          "height": 281
        },
        "id": "5QRFiKVKQVD1",
        "outputId": "6eb9f879-4ecb-4f7c-a13c-1e65e6aef9db"
      },
      "source": [
        "df['good'] = [1 if x >= 7 else 0 for x in df['quality']]\n",
        "x= df.drop(['quality','good'],axis=1)\n",
        "y= df['good']\n",
        "X=df['pH']\n",
        "plt.title('Quality of red wines')\n",
        "plt.scatter(X,y, marker='o', color='green')\n",
        "plt.show()"
      ],
      "execution_count": 32,
      "outputs": [
        {
          "output_type": "display_data",
          "data": {
            "image/png": "[encoded data removed]",
            "text/plain": [
              "<Figure size 432x288 with 1 Axes>"
            ]
          },
          "metadata": {
            "tags": [],
            "needs_background": "light"
          }
        }
      ]
    },
    {
      "cell_type": "code",
      "metadata": {
        "colab": {
          "base_uri": "https://localhost:8080/"
        },
        "id": "I9WL_rTnLr1U",
        "outputId": "490a7608-de9f-4534-9c85-e6daad886329"
      },
      "source": [
        "x_features = x\n",
        "print(y)"
      ],
      "execution_count": 33,
      "outputs": [
        {
          "output_type": "stream",
          "text": [
            "0       0\n",
            "1       0\n",
            "2       0\n",
            "3       0\n",
            "4       0\n",
            "       ..\n",
            "1594    0\n",
            "1595    0\n",
            "1596    0\n",
            "1597    0\n",
            "1598    0\n",
            "Name: good, Length: 1599, dtype: int64\n"
          ],
          "name": "stdout"
        }
      ]
    },
    {
      "cell_type": "code",
      "metadata": {
        "colab": {
          "base_uri": "https://localhost:8080/"
        },
        "id": "oHMAXm3SLwnV",
        "outputId": "b6efd78b-dbb7-4d9e-e392-c52b125467af"
      },
      "source": [
        "x = StandardScaler().fit_transform(x)\n",
        "x_train, x_test, y_train, y_test= train_test_split(x, y, test_size = 0.2)\n",
        "#x_train.shape()\n",
        "log_reg= LogisticRegression()\n",
        "log_reg.fit(x_train, y_train)\n",
        "y_pred= log_reg.predict(x_test)\n",
        "for c in y_pred:\n",
        "  if c is 1:\n",
        "    print (\"high\", end=\" \")\n",
        "  else:\n",
        "    print(\"low\\t\", end=\" \")"
      ],
      "execution_count": 34,
      "outputs": [
        {
          "output_type": "stream",
          "text": [
            "low\t low\t low\t low\t low\t low\t low\t low\t low\t low\t low\t low\t low\t low\t low\t low\t low\t low\t low\t low\t low\t low\t low\t low\t low\t low\t low\t low\t low\t low\t low\t low\t low\t low\t low\t low\t low\t low\t low\t low\t low\t low\t low\t low\t low\t low\t low\t low\t low\t low\t low\t low\t low\t low\t low\t low\t low\t low\t low\t low\t low\t low\t low\t low\t low\t low\t low\t low\t low\t low\t low\t low\t low\t low\t low\t low\t low\t low\t low\t low\t low\t low\t low\t low\t low\t low\t low\t low\t low\t low\t low\t low\t low\t low\t low\t low\t low\t low\t low\t low\t low\t low\t low\t low\t low\t low\t low\t low\t low\t low\t low\t low\t low\t low\t low\t low\t low\t low\t low\t low\t low\t low\t low\t low\t low\t low\t low\t low\t low\t low\t low\t low\t low\t low\t low\t low\t low\t low\t low\t low\t low\t low\t low\t low\t low\t low\t low\t low\t low\t low\t low\t low\t low\t low\t low\t low\t low\t low\t low\t low\t low\t low\t low\t low\t low\t low\t low\t low\t low\t low\t low\t low\t low\t low\t low\t low\t low\t low\t low\t low\t low\t low\t low\t low\t low\t low\t low\t low\t low\t low\t low\t low\t low\t low\t low\t low\t low\t low\t low\t low\t low\t low\t low\t low\t low\t low\t low\t low\t low\t low\t low\t low\t low\t low\t low\t low\t low\t low\t low\t low\t low\t low\t low\t low\t low\t low\t low\t low\t low\t low\t low\t low\t low\t low\t low\t low\t low\t low\t low\t low\t low\t low\t low\t low\t low\t low\t low\t low\t low\t low\t low\t low\t low\t low\t low\t low\t low\t low\t low\t low\t low\t low\t low\t low\t low\t low\t low\t low\t low\t low\t low\t low\t low\t low\t low\t low\t low\t low\t low\t low\t low\t low\t low\t low\t low\t low\t low\t low\t low\t low\t low\t low\t low\t low\t low\t low\t low\t low\t low\t low\t low\t low\t low\t low\t low\t low\t low\t low\t low\t low\t low\t low\t low\t low\t low\t low\t low\t low\t low\t low\t "
          ],
          "name": "stdout"
        }
      ]
    },
    {
      "cell_type": "code",
      "metadata": {
        "colab": {
          "base_uri": "https://localhost:8080/"
        },
        "id": "D3Az9_SFL0M1",
        "outputId": "cd567c51-c539-49aa-dc20-5a1974e0d5ac"
      },
      "source": [
        "accuracy = metrics.accuracy_score(y_test, y_pred)\n",
        "per_accuracy=accuracy*100\n",
        "print(\"Prediction accuracy :\\t\",per_accuracy)"
      ],
      "execution_count": 39,
      "outputs": [
        {
          "output_type": "stream",
          "text": [
            "Prediction accuracy :\t 87.8125\n"
          ],
          "name": "stdout"
        }
      ]
    }
  ]
}